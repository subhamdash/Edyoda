{
 "cells": [
  {
   "cell_type": "code",
   "execution_count": 2,
   "metadata": {},
   "outputs": [
    {
     "data": {
      "text/plain": [
       "'Count The Number Of Times Each Value Appears In An Array Of Integers'"
      ]
     },
     "execution_count": 2,
     "metadata": {},
     "output_type": "execute_result"
    }
   ],
   "source": [
    "\"\"\"Count The Number Of Times Each Value Appears In An Array Of Integers\"\"\""
   ]
  },
  {
   "cell_type": "code",
   "execution_count": 9,
   "metadata": {},
   "outputs": [
    {
     "name": "stdout",
     "output_type": "stream",
     "text": [
      "[1, 1, 1, 1, 1, 1, 2, 3, 3, 4, 4, 4, 4, 5, 5, 5, 5, 6, 7, 7, 7, 9, 9, 9]\n",
      "Counter({1: 6, 4: 4, 5: 4, 7: 3, 9: 3, 3: 2, 2: 1, 6: 1})\n"
     ]
    }
   ],
   "source": [
    "import numpy as np\n",
    "from collections import Counter\n",
    "arr1=np.random.randint(1,10,24)\n",
    "arr1=sorted(arr1)\n",
    "print(arr1)\n",
    "print(Counter(arr1))"
   ]
  },
  {
   "cell_type": "code",
   "execution_count": 10,
   "metadata": {},
   "outputs": [
    {
     "data": {
      "text/plain": [
       "'2. Given 9 Integers. You have to convert them into 3*3 Numpy array using Reshape function.'"
      ]
     },
     "execution_count": 10,
     "metadata": {},
     "output_type": "execute_result"
    }
   ],
   "source": [
    "\"\"\"2. Given 9 Integers. You have to convert them into 3*3 Numpy array using Reshape function.\"\"\""
   ]
  },
  {
   "cell_type": "code",
   "execution_count": 13,
   "metadata": {},
   "outputs": [
    {
     "name": "stdout",
     "output_type": "stream",
     "text": [
      "[1 1 7 7 8 4 1 1 7]\n",
      "[[1 1 7]\n",
      " [7 8 4]\n",
      " [1 1 7]]\n"
     ]
    }
   ],
   "source": [
    "arr2=np.random.randint(1,10,9)\n",
    "print(arr2)\n",
    "print(arr2.reshape(3,3))"
   ]
  },
  {
   "cell_type": "code",
   "execution_count": 14,
   "metadata": {},
   "outputs": [
    {
     "data": {
      "text/plain": [
       "'3. How to find the memory size of any array'"
      ]
     },
     "execution_count": 14,
     "metadata": {},
     "output_type": "execute_result"
    }
   ],
   "source": [
    "\"\"\"3. How to find the memory size of any array\"\"\""
   ]
  },
  {
   "cell_type": "code",
   "execution_count": 16,
   "metadata": {},
   "outputs": [
    {
     "name": "stdout",
     "output_type": "stream",
     "text": [
      "48\n"
     ]
    }
   ],
   "source": [
    "arr3=np.random.randint(2,30,12)\n",
    "print(arr3.nbytes)\n"
   ]
  },
  {
   "cell_type": "code",
   "execution_count": 17,
   "metadata": {},
   "outputs": [
    {
     "data": {
      "text/plain": [
       "'4. Create a 2d array of size 10 by 10 with 1 on the border and 0 inside.'"
      ]
     },
     "execution_count": 17,
     "metadata": {},
     "output_type": "execute_result"
    }
   ],
   "source": [
    "\"\"\"4. Create a 2d array of size 10 by 10 with 1 on the border and 0 inside.\"\"\""
   ]
  },
  {
   "cell_type": "code",
   "execution_count": 19,
   "metadata": {},
   "outputs": [
    {
     "name": "stdout",
     "output_type": "stream",
     "text": [
      "[[1. 1. 1. 1. 1. 1. 1. 1. 1. 1.]\n",
      " [1. 0. 0. 0. 0. 0. 0. 0. 0. 1.]\n",
      " [1. 0. 0. 0. 0. 0. 0. 0. 0. 1.]\n",
      " [1. 0. 0. 0. 0. 0. 0. 0. 0. 1.]\n",
      " [1. 0. 0. 0. 0. 0. 0. 0. 0. 1.]\n",
      " [1. 0. 0. 0. 0. 0. 0. 0. 0. 1.]\n",
      " [1. 0. 0. 0. 0. 0. 0. 0. 0. 1.]\n",
      " [1. 0. 0. 0. 0. 0. 0. 0. 0. 1.]\n",
      " [1. 0. 0. 0. 0. 0. 0. 0. 0. 1.]\n",
      " [1. 1. 1. 1. 1. 1. 1. 1. 1. 1.]]\n"
     ]
    }
   ],
   "source": [
    "arr4 = np.ones((10,10))\n",
    "arr4[1:-1, 1:-1] = 0\n",
    "print(arr4)\n",
    "\n"
   ]
  },
  {
   "cell_type": "code",
   "execution_count": 20,
   "metadata": {},
   "outputs": [
    {
     "data": {
      "text/plain": [
       "'5.Create a 8x8 matrix and fill it with a checkerboard pattern.'"
      ]
     },
     "execution_count": 20,
     "metadata": {},
     "output_type": "execute_result"
    }
   ],
   "source": [
    "\"\"\"5.Create a 8x8 matrix and fill it with a checkerboard pattern.\"\"\""
   ]
  },
  {
   "cell_type": "code",
   "execution_count": 33,
   "metadata": {},
   "outputs": [
    {
     "name": "stdout",
     "output_type": "stream",
     "text": [
      "[[0. 1. 0. 1. 0. 1. 0. 1.]\n",
      " [1. 0. 1. 0. 1. 0. 1. 0.]\n",
      " [0. 1. 0. 1. 0. 1. 0. 1.]\n",
      " [1. 0. 1. 0. 1. 0. 1. 0.]\n",
      " [0. 1. 0. 1. 0. 1. 0. 1.]\n",
      " [1. 0. 1. 0. 1. 0. 1. 0.]\n",
      " [0. 1. 0. 1. 0. 1. 0. 1.]\n",
      " [1. 0. 1. 0. 1. 0. 1. 0.]]\n"
     ]
    }
   ],
   "source": [
    "arr5 = np.ones((8,8))\n",
    "for i in range(arr5.shape[0]):\n",
    "    for j in range(arr5.shape[0]):\n",
    "        #print(i,j)\n",
    "        if (i+j)%2==0:\n",
    "            arr5[i][j]=0\n",
    "print(arr5)\n",
    "\n",
    "\n",
    "arr5_2 = np.zeros((8,8))\n",
    "arr5_2[1::2,::2] = 1\n",
    "arr5_2[::2,1::2] = 1\n",
    "    "
   ]
  },
  {
   "cell_type": "code",
   "execution_count": 26,
   "metadata": {},
   "outputs": [
    {
     "data": {
      "text/plain": [
       "'6.Normalize a 5x5 random matrix'"
      ]
     },
     "execution_count": 26,
     "metadata": {},
     "output_type": "execute_result"
    }
   ],
   "source": [
    "\"\"\"6.Normalize a 5x5 random matrix\"\"\""
   ]
  },
  {
   "cell_type": "code",
   "execution_count": 31,
   "metadata": {},
   "outputs": [
    {
     "data": {
      "text/plain": [
       "array([[1.16481588, 0.96542693, 2.84757817, 2.54391147, 1.17600671],\n",
       "       [0.        , 2.75368815, 1.29874353, 0.02497584, 3.15092601],\n",
       "       [3.05309435, 3.03402475, 4.14230459, 0.57222418, 0.34049127],\n",
       "       [1.97674408, 0.54452008, 1.82676549, 2.21281072, 1.66271311],\n",
       "       [1.45031983, 2.43402978, 3.12998442, 0.57196277, 0.56654754]])"
      ]
     },
     "execution_count": 31,
     "metadata": {},
     "output_type": "execute_result"
    }
   ],
   "source": [
    "a = np.random.random((5,5))\n",
    "b= (a - a.min())/(a.std(axis=0))\n",
    "b"
   ]
  },
  {
   "cell_type": "code",
   "execution_count": 32,
   "metadata": {},
   "outputs": [
    {
     "data": {
      "text/plain": [
       "'7. Given a 1D array in range(0,11), negate all elements which are between 3 and 8, in place.'"
      ]
     },
     "execution_count": 32,
     "metadata": {},
     "output_type": "execute_result"
    }
   ],
   "source": [
    "\"\"\"7. Given a 1D array in range(0,11), negate all elements which are between 3 and 8, in place.\"\"\""
   ]
  },
  {
   "cell_type": "code",
   "execution_count": 43,
   "metadata": {},
   "outputs": [
    {
     "name": "stdout",
     "output_type": "stream",
     "text": [
      "[ 2  4  1  9  8  5  6  3 10  3  4  8  5  1  5  2  2  4  2  0  1  0  5  9\n",
      "  7 10  6  1  7  0]\n",
      "[ 2 -4  1  9  8 -5 -6  3 10  3 -4  8 -5  1 -5  2  2 -4  2  0  1  0 -5  9\n",
      " -7 10 -6  1 -7  0]\n"
     ]
    }
   ],
   "source": [
    "arr7=np.random.randint(0,11,30)\n",
    "print(arr7)\n",
    "m=np.where((arr7 > 3) & (arr7 <8))\n",
    "arr7[m]*=-1\n",
    "print(arr7)\n",
    "\n"
   ]
  },
  {
   "cell_type": "code",
   "execution_count": 51,
   "metadata": {},
   "outputs": [
    {
     "name": "stdout",
     "output_type": "stream",
     "text": [
      "Yestraday:  2020-02-13\n",
      "Today:  2020-02-14\n",
      "Tomorrow:  2020-02-15\n"
     ]
    }
   ],
   "source": [
    "yesterday = np.datetime64('today', 'D') - np.timedelta64(1, 'D')\n",
    "print(\"Yestraday: \",yesterday)\n",
    "today     = np.datetime64('today', 'D')\n",
    "print(\"Today: \",today)\n",
    "tomorrow  = np.datetime64('today', 'D') + np.timedelta64(1, 'D')\n",
    "print(\"Tomorrow: \",tomorrow)"
   ]
  },
  {
   "cell_type": "code",
   "execution_count": 44,
   "metadata": {},
   "outputs": [
    {
     "data": {
      "text/plain": [
       "'9. Generate two arrays of size 2X4 & 3X3, find difference between them.'"
      ]
     },
     "execution_count": 44,
     "metadata": {},
     "output_type": "execute_result"
    }
   ],
   "source": [
    "\"\"\"9. Generate two arrays of size 2X4 & 3X3, find difference between them.\"\"\""
   ]
  },
  {
   "cell_type": "code",
   "execution_count": 59,
   "metadata": {},
   "outputs": [
    {
     "ename": "ValueError",
     "evalue": "operands could not be broadcast together with shapes (2,4) (3,3) ",
     "output_type": "error",
     "traceback": [
      "\u001b[1;31m---------------------------------------------------------------------------\u001b[0m",
      "\u001b[1;31mValueError\u001b[0m                                Traceback (most recent call last)",
      "\u001b[1;32m<ipython-input-59-0fd2e5d711e1>\u001b[0m in \u001b[0;36m<module>\u001b[1;34m\u001b[0m\n\u001b[0;32m      3\u001b[0m \u001b[0marr9\u001b[0m\u001b[1;33m=\u001b[0m\u001b[0mnp\u001b[0m\u001b[1;33m.\u001b[0m\u001b[0mrandom\u001b[0m\u001b[1;33m.\u001b[0m\u001b[0mrandint\u001b[0m\u001b[1;33m(\u001b[0m\u001b[1;36m10\u001b[0m\u001b[1;33m,\u001b[0m\u001b[0msize\u001b[0m\u001b[1;33m=\u001b[0m\u001b[1;33m(\u001b[0m\u001b[1;36m3\u001b[0m\u001b[1;33m,\u001b[0m\u001b[1;36m3\u001b[0m\u001b[1;33m)\u001b[0m\u001b[1;33m)\u001b[0m\u001b[1;33m\u001b[0m\u001b[1;33m\u001b[0m\u001b[0m\n\u001b[0;32m      4\u001b[0m \u001b[0marr9\u001b[0m\u001b[1;33m.\u001b[0m\u001b[0mreshape\u001b[0m\u001b[1;33m(\u001b[0m\u001b[1;36m1\u001b[0m\u001b[1;33m,\u001b[0m\u001b[1;36m3\u001b[0m\u001b[1;33m,\u001b[0m\u001b[1;36m3\u001b[0m\u001b[1;33m)\u001b[0m\u001b[1;33m\u001b[0m\u001b[1;33m\u001b[0m\u001b[0m\n\u001b[1;32m----> 5\u001b[1;33m \u001b[0marr8\u001b[0m \u001b[1;33m-\u001b[0m \u001b[0marr9\u001b[0m\u001b[1;33m\u001b[0m\u001b[1;33m\u001b[0m\u001b[0m\n\u001b[0m",
      "\u001b[1;31mValueError\u001b[0m: operands could not be broadcast together with shapes (2,4) (3,3) "
     ]
    }
   ],
   "source": [
    "arr8 =np.random.randint(10,size=(2,4))\n",
    "arr8.reshape(2,1,4)\n",
    "arr9=np.random.randint(10,size=(3,3))\n",
    "arr9.reshape(1,3,3)\n",
    "arr8 - arr9"
   ]
  },
  {
   "cell_type": "code",
   "execution_count": 52,
   "metadata": {},
   "outputs": [
    {
     "data": {
      "text/plain": [
       "\"\\n10. Given 1d array of ['cat','dog','rat'], genrate 100 elements of 1d array consisting of the above 3 value ?\\n\\n['cat','cat',...,'rat','dog','dog','cat'...]\\n\""
      ]
     },
     "execution_count": 52,
     "metadata": {},
     "output_type": "execute_result"
    }
   ],
   "source": [
    "\"\"\"\n",
    "10. Given 1d array of ['cat','dog','rat'], genrate 100 elements of 1d array consisting of the above 3 value ?\n",
    "\n",
    "['cat','cat',...,'rat','dog','dog','cat'...]\n",
    "\"\"\""
   ]
  },
  {
   "cell_type": "code",
   "execution_count": 55,
   "metadata": {},
   "outputs": [
    {
     "name": "stdout",
     "output_type": "stream",
     "text": [
      "[1 1 2 1 1 1 1 1 0 1 2 1 0 2 1 2 0 1 1 1 1 1 1 1 2 0 0 0 0 0 1 2 1 0 1 2 2\n",
      " 1 2 2 2 0 2 1 2 0 2 0 0 1 2 1 0 1 1 0 1 2 0 0 2 1 2 2 0 1 2 2 1 2 2 1 0 1\n",
      " 2 1 2 2 0 0 1 1 0 2 2 1 1 2 1 2 2 2 2 0 1 0 0 0 1 0]\n"
     ]
    },
    {
     "data": {
      "text/plain": [
       "array(['dog', 'dog', 'rat', 'dog', 'dog', 'dog', 'dog', 'dog', 'cat',\n",
       "       'dog', 'rat', 'dog', 'cat', 'rat', 'dog', 'rat', 'cat', 'dog',\n",
       "       'dog', 'dog', 'dog', 'dog', 'dog', 'dog', 'rat', 'cat', 'cat',\n",
       "       'cat', 'cat', 'cat', 'dog', 'rat', 'dog', 'cat', 'dog', 'rat',\n",
       "       'rat', 'dog', 'rat', 'rat', 'rat', 'cat', 'rat', 'dog', 'rat',\n",
       "       'cat', 'rat', 'cat', 'cat', 'dog', 'rat', 'dog', 'cat', 'dog',\n",
       "       'dog', 'cat', 'dog', 'rat', 'cat', 'cat', 'rat', 'dog', 'rat',\n",
       "       'rat', 'cat', 'dog', 'rat', 'rat', 'dog', 'rat', 'rat', 'dog',\n",
       "       'cat', 'dog', 'rat', 'dog', 'rat', 'rat', 'cat', 'cat', 'dog',\n",
       "       'dog', 'cat', 'rat', 'rat', 'dog', 'dog', 'rat', 'dog', 'rat',\n",
       "       'rat', 'rat', 'rat', 'cat', 'dog', 'cat', 'cat', 'cat', 'dog',\n",
       "       'cat'], dtype='<U3')"
      ]
     },
     "execution_count": 55,
     "metadata": {},
     "output_type": "execute_result"
    }
   ],
   "source": [
    "arr10=np.random.randint(0,3,100)\n",
    "print(arr10)\n",
    "np.choose(arr10, choices=['cat','dog','rat'])"
   ]
  },
  {
   "cell_type": "code",
   "execution_count": 60,
   "metadata": {},
   "outputs": [
    {
     "data": {
      "text/plain": [
       "'\\n11. Create a vector of size 10 with values ranging from 0 to 1, both excluded without manually deducing the values'"
      ]
     },
     "execution_count": 60,
     "metadata": {},
     "output_type": "execute_result"
    }
   ],
   "source": [
    "\"\"\"\n",
    "11. Create a vector of size 10 with values ranging from 0 to 1, both excluded without manually deducing the values\"\"\""
   ]
  },
  {
   "cell_type": "code",
   "execution_count": 63,
   "metadata": {},
   "outputs": [
    {
     "name": "stdout",
     "output_type": "stream",
     "text": [
      "[0.11111111 0.22222222 0.33333333 0.44444444 0.55555556 0.66666667\n",
      " 0.77777778 0.88888889]\n"
     ]
    }
   ],
   "source": [
    "v = np.linspace(0,1,10)[1:-1]\n",
    "print(v)"
   ]
  },
  {
   "cell_type": "code",
   "execution_count": 64,
   "metadata": {},
   "outputs": [
    {
     "data": {
      "text/plain": [
       "'Given a two dimensional array, how to extract unique rows?'"
      ]
     },
     "execution_count": 64,
     "metadata": {},
     "output_type": "execute_result"
    }
   ],
   "source": [
    "\"\"\"12.Given a two dimensional array, how to extract unique rows?\"\"\""
   ]
  },
  {
   "cell_type": "code",
   "execution_count": 70,
   "metadata": {},
   "outputs": [
    {
     "name": "stdout",
     "output_type": "stream",
     "text": [
      "[[1 2 5 2]\n",
      " [1 5 8 9]]\n"
     ]
    }
   ],
   "source": [
    "arr12=np.array([[1,5,8,9],[1,2,5,2],[1,5,8,9]])\n",
    "unique_row=np.unique(arr12,axis=0)\n",
    "print(unique_row)"
   ]
  },
  {
   "cell_type": "code",
   "execution_count": 71,
   "metadata": {},
   "outputs": [
    {
     "data": {
      "text/plain": [
       "'13. Create a structured array with x and y coordinates covering the [0,1]x[0,1] area'"
      ]
     },
     "execution_count": 71,
     "metadata": {},
     "output_type": "execute_result"
    }
   ],
   "source": [
    "\"\"\"13. Create a structured array with x and y coordinates covering the [0,1]x[0,1] area\"\"\""
   ]
  },
  {
   "cell_type": "code",
   "execution_count": 73,
   "metadata": {},
   "outputs": [
    {
     "data": {
      "text/plain": [
       "'14.How to find the closest value (to a given scalar) in a vector?'"
      ]
     },
     "execution_count": 73,
     "metadata": {},
     "output_type": "execute_result"
    }
   ],
   "source": [
    "\"\"\"14.How to find the closest value (to a given scalar) in a vector?\"\"\""
   ]
  },
  {
   "cell_type": "code",
   "execution_count": 82,
   "metadata": {},
   "outputs": [
    {
     "name": "stdout",
     "output_type": "stream",
     "text": [
      "10\n"
     ]
    }
   ],
   "source": [
    "arr14 = np.arange(100)\n",
    "x = 10.31\n",
    "i= (np.abs(arr14-x)).argmin()\n",
    "print(arr14[i])"
   ]
  },
  {
   "cell_type": "code",
   "execution_count": null,
   "metadata": {},
   "outputs": [],
   "source": [
    "\"\"\"15. Consider a random vector with shape (10,2) representing coordinates, find point by point distances. Use euclidian distance.\"\"\""
   ]
  },
  {
   "cell_type": "code",
   "execution_count": 83,
   "metadata": {},
   "outputs": [
    {
     "name": "stdout",
     "output_type": "stream",
     "text": [
      "[[0.         0.31772717 0.40716793 0.57074312 0.53251155 0.36427889\n",
      "  0.15169513 0.36493007 0.24554892 0.36634445]\n",
      " [0.31772717 0.         0.36317063 0.29359072 0.65270318 0.54434824\n",
      "  0.43709512 0.61496446 0.26900229 0.63762466]\n",
      " [0.40716793 0.36317063 0.         0.63301419 0.33131549 0.31083118\n",
      "  0.39736822 0.44319028 0.16265048 0.76599933]\n",
      " [0.57074312 0.29359072 0.63301419 0.         0.94182358 0.83783271\n",
      "  0.71043527 0.90237063 0.56166417 0.80721571]\n",
      " [0.53251155 0.65270318 0.33131549 0.94182358 0.         0.18090641\n",
      "  0.42149414 0.29130771 0.38576765 0.80284392]\n",
      " [0.36427889 0.54434824 0.31083118 0.83783271 0.18090641 0.\n",
      "  0.24185208 0.14349849 0.28113277 0.62254754]\n",
      " [0.15169513 0.43709512 0.39736822 0.71043527 0.42149414 0.24185208\n",
      "  0.         0.21451538 0.26244037 0.39276645]\n",
      " [0.36493007 0.61496446 0.44319028 0.90237063 0.29130771 0.14349849\n",
      "  0.21451538 0.         0.37610791 0.53559695]\n",
      " [0.24554892 0.26900229 0.16265048 0.56166417 0.38576765 0.28113277\n",
      "  0.26244037 0.37610791 0.         0.60829036]\n",
      " [0.36634445 0.63762466 0.76599933 0.80721571 0.80284392 0.62254754\n",
      "  0.39276645 0.53559695 0.60829036 0.        ]]\n"
     ]
    }
   ],
   "source": [
    "a= np.random.random((10,2))\n",
    "x,y = np.atleast_2d(a[:,0], a[:,1])\n",
    "d = np.sqrt( (x-x.T)**2 + (y-y.T)**2)\n",
    "print(d)"
   ]
  },
  {
   "cell_type": "code",
   "execution_count": 84,
   "metadata": {},
   "outputs": [
    {
     "data": {
      "text/plain": [
       "'16. How to sort an array by the nth column?'"
      ]
     },
     "execution_count": 84,
     "metadata": {},
     "output_type": "execute_result"
    }
   ],
   "source": [
    "\"\"\"16. How to sort an array by the nth column?\"\"\""
   ]
  },
  {
   "cell_type": "code",
   "execution_count": 92,
   "metadata": {},
   "outputs": [
    {
     "name": "stdout",
     "output_type": "stream",
     "text": [
      "[[4 4 9 8 0]\n",
      " [1 4 3 4 4]\n",
      " [5 6 8 2 0]\n",
      " [6 8 3 0 4]\n",
      " [2 8 7 3 7]]\n"
     ]
    }
   ],
   "source": [
    "arr16 = np.random.randint(0,10,(5,5))\n",
    "n=3\n",
    "print(arr16[arr16[:,1].argsort()])"
   ]
  },
  {
   "cell_type": "code",
   "execution_count": null,
   "metadata": {},
   "outputs": [],
   "source": [
    "\"\"\"17.How to tell if a given 2D array has null columns?\"\"\""
   ]
  },
  {
   "cell_type": "code",
   "execution_count": 94,
   "metadata": {},
   "outputs": [
    {
     "name": "stdout",
     "output_type": "stream",
     "text": [
      "False\n"
     ]
    }
   ],
   "source": [
    "arr17= np.random.randint(0,9,(3,3))\n",
    "print((~arr17.any(axis=0)).any())"
   ]
  },
  {
   "cell_type": "code",
   "execution_count": null,
   "metadata": {},
   "outputs": [],
   "source": [
    "\"\"\"18. Considering a two dimensions array, how to get sum over the last two columns at once?\"\"\""
   ]
  },
  {
   "cell_type": "code",
   "execution_count": 97,
   "metadata": {},
   "outputs": [
    {
     "name": "stdout",
     "output_type": "stream",
     "text": [
      "[[ 2 19 14 12]\n",
      " [ 9 11 18  2]\n",
      " [17 13 14  1]\n",
      " [13  0  2  1]\n",
      " [12  3  4  8]]\n",
      "175\n"
     ]
    }
   ],
   "source": [
    "A = np.random.randint(0,20,(5,4))\n",
    "print(A)\n",
    "sum1 = A.reshape(A.shape[:-2] + (-1,)).sum(axis=0)\n",
    "print(sum1)"
   ]
  },
  {
   "cell_type": "code",
   "execution_count": null,
   "metadata": {},
   "outputs": [],
   "source": [
    "\"\"\"\n",
    "20. Given a 1d array(size 100) of boolean values, identify total number of True in it.¶\n",
    "\"\"\""
   ]
  },
  {
   "cell_type": "code",
   "execution_count": 119,
   "metadata": {},
   "outputs": [
    {
     "name": "stdout",
     "output_type": "stream",
     "text": [
      "[[1. 1. 1. 1. 1. 1. 1. 1. 1. 1.]\n",
      " [1. 0. 0. 0. 0. 0. 0. 0. 0. 1.]\n",
      " [1. 0. 0. 0. 0. 0. 0. 0. 0. 1.]\n",
      " [1. 0. 0. 0. 0. 0. 0. 0. 0. 1.]\n",
      " [1. 0. 0. 0. 0. 0. 0. 0. 0. 1.]\n",
      " [1. 0. 0. 0. 0. 0. 0. 0. 0. 1.]\n",
      " [1. 0. 0. 0. 0. 0. 0. 0. 0. 1.]\n",
      " [1. 0. 0. 0. 0. 0. 0. 0. 0. 1.]\n",
      " [1. 0. 0. 0. 0. 0. 0. 0. 0. 1.]\n",
      " [1. 1. 1. 1. 1. 1. 1. 1. 1. 1.]]\n",
      "36\n"
     ]
    }
   ],
   "source": [
    "arr4 = np.ones((10,10))\n",
    "arr4[1:-1, 1:-1] = 0\n",
    "print(arr4)\n",
    "count=0\n",
    "for i in range(arr4.shape[0]):\n",
    "    for j in range(arr4.shape[0]):\n",
    "        if arr4[i][j].any():\n",
    "            count+=1\n",
    "print(count)"
   ]
  },
  {
   "cell_type": "code",
   "execution_count": 101,
   "metadata": {},
   "outputs": [
    {
     "data": {
      "text/plain": [
       "'21. Consider the vector [1, 2, 3, 4, 5], how to build a new vector with 3 consecutive zeros interleaved between each value?'"
      ]
     },
     "execution_count": 101,
     "metadata": {},
     "output_type": "execute_result"
    }
   ],
   "source": [
    "\"\"\"21. Consider the vector [1, 2, 3, 4, 5], how to build a new vector with 3 consecutive zeros interleaved between each value?\"\"\""
   ]
  },
  {
   "cell_type": "code",
   "execution_count": 102,
   "metadata": {},
   "outputs": [
    {
     "name": "stdout",
     "output_type": "stream",
     "text": [
      "[1. 0. 0. 0. 2. 0. 0. 0. 3. 0. 0. 0. 4. 0. 0. 0. 5.]\n"
     ]
    }
   ],
   "source": [
    "Z = np.array([1,2,3,4,5])\n",
    "nz = 3\n",
    "Z0 = np.zeros(len(Z) + (len(Z)-1)*(nz))\n",
    "Z0[::nz+1] = Z\n",
    "print(Z0)"
   ]
  },
  {
   "cell_type": "code",
   "execution_count": 104,
   "metadata": {},
   "outputs": [
    {
     "data": {
      "text/plain": [
       "'22. How to swap two rows of an array?'"
      ]
     },
     "execution_count": 104,
     "metadata": {},
     "output_type": "execute_result"
    }
   ],
   "source": [
    "\"\"\"22. How to swap two rows of an array?\"\"\""
   ]
  },
  {
   "cell_type": "code",
   "execution_count": 105,
   "metadata": {},
   "outputs": [
    {
     "name": "stdout",
     "output_type": "stream",
     "text": [
      "[[ 5  6  7  8  9]\n",
      " [ 0  1  2  3  4]\n",
      " [10 11 12 13 14]\n",
      " [15 16 17 18 19]\n",
      " [20 21 22 23 24]]\n"
     ]
    }
   ],
   "source": [
    "A = np.arange(25).reshape(5,5)\n",
    "A[[0,1]] = A[[1,0]]\n",
    "print(A)"
   ]
  },
  {
   "cell_type": "code",
   "execution_count": null,
   "metadata": {},
   "outputs": [],
   "source": [
    "\"\"\"\n",
    "24. How to get n largest value of an array?\"\"\""
   ]
  },
  {
   "cell_type": "code",
   "execution_count": 109,
   "metadata": {},
   "outputs": [
    {
     "name": "stdout",
     "output_type": "stream",
     "text": [
      "[9998]\n"
     ]
    }
   ],
   "source": [
    "Z = np.arange(10000)\n",
    "np.random.shuffle(Z)\n",
    "n = 2\n",
    "print (Z[np.argsort(Z)[-n:-n+1]])"
   ]
  },
  {
   "cell_type": "code",
   "execution_count": 110,
   "metadata": {},
   "outputs": [
    {
     "data": {
      "text/plain": [
       "'25. Given two random arrays of shape 5X5, identify the common elements between them.'"
      ]
     },
     "execution_count": 110,
     "metadata": {},
     "output_type": "execute_result"
    }
   ],
   "source": [
    "\"\"\"25. Given two random arrays of shape 5X5, identify the common elements between them.\"\"\""
   ]
  },
  {
   "cell_type": "code",
   "execution_count": 111,
   "metadata": {},
   "outputs": [
    {
     "name": "stdout",
     "output_type": "stream",
     "text": [
      "[0 1 2 3 4 5 6 7]\n"
     ]
    }
   ],
   "source": [
    "import numpy as np\n",
    "array1 = np.random.randint(0,9,(5,5))\n",
    "array2 = np.random.randint(0,9,(5,5))\n",
    "print(np.intersect1d(array1, array2))"
   ]
  },
  {
   "cell_type": "code",
   "execution_count": 114,
   "metadata": {},
   "outputs": [
    {
     "name": "stdout",
     "output_type": "stream",
     "text": [
      "[0 1 2 3 4 5 6 7 8 9]\n",
      "[9998 9999]\n"
     ]
    }
   ],
   "source": [
    "\"\"\"26. How to get index of top two highest value in a 1d array?\"\"\"\n",
    "Z = np.arange(10000)\n",
    "np.random.shuffle(Z)\n",
    "print (Z[np.argsort(Z)[-2:]])"
   ]
  },
  {
   "cell_type": "code",
   "execution_count": null,
   "metadata": {},
   "outputs": [],
   "source": []
  }
 ],
 "metadata": {
  "kernelspec": {
   "display_name": "Python 3",
   "language": "python",
   "name": "python3"
  },
  "language_info": {
   "codemirror_mode": {
    "name": "ipython",
    "version": 3
   },
   "file_extension": ".py",
   "mimetype": "text/x-python",
   "name": "python",
   "nbconvert_exporter": "python",
   "pygments_lexer": "ipython3",
   "version": "3.6.8"
  }
 },
 "nbformat": 4,
 "nbformat_minor": 2
}
