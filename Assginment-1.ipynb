{
 "cells": [
  {
   "cell_type": "code",
   "execution_count": 2,
   "metadata": {
    "scrolled": true
   },
   "outputs": [
    {
     "data": {
      "text/plain": [
       "'1.In the pre-smartphone era,each number key is assigned a subset of the alphabet {a,b,…,z}.\\n\\n- 2 is assigned {a,b,c}, \\n- 3 is assigned {d,e,f} \\n- 4 is assigned {g,h,i} \\n- 5 is assigned {j,k,l}\\n- 6 is assigned {m,n,o} \\n- 7 is assigned {p,q,r,s}\\n- 8 is assigned {t,u,v} \\n- 9 is assigned {w,x,y,z}\\n\\nWrite a function numbers_to_chars() to find the characters generated using key 9999335533. Output should be \"zeke\"\\n\\nFunction Name : numbers_to_chars() Input : Integer number sequence Output : Str'"
      ]
     },
     "execution_count": 2,
     "metadata": {},
     "output_type": "execute_result"
    }
   ],
   "source": [
    "\"\"\"1.\n",
    "In the pre-smartphone era,each number key is assigned a subset of the alphabet {a,b,…,z}.\n",
    "\n",
    "    - 2 is assigned {a,b,c}, \n",
    "    - 3 is assigned {d,e,f} \n",
    "    - 4 is assigned {g,h,i} \n",
    "    - 5 is assigned {j,k,l}\n",
    "    - 6 is assigned {m,n,o} \n",
    "    - 7 is assigned {p,q,r,s}\n",
    "    - 8 is assigned {t,u,v} \n",
    "    - 9 is assigned {w,x,y,z}\n",
    "Write a function numbers_to_chars() to find the characters generated using key 9999335533. Output should be \"zeke\"\n",
    "Function Name : numbers_to_chars() Input : Integer number sequence Output : Str\"\"\"\n"
   ]
  },
  {
   "cell_type": "code",
   "execution_count": null,
   "metadata": {},
   "outputs": [],
   "source": [
    "\"\"\"Approach:-\n",
    "1. create a dictonary with values\n",
    "2. add a space at the end of the string (helpful while calculation)\n",
    "3. now check if the adjacent element are same and by how many times\n",
    "4. if it occur in muliple of length of the values for specific key then the last element will be repeated \"\"\""
   ]
  },
  {
   "cell_type": "code",
   "execution_count": 9,
   "metadata": {},
   "outputs": [],
   "source": [
    "def numbers_to_chars(x):\n",
    "    l = {\"2\":['a','b','c'],\"3\":['d','e','f'],\n",
    "         \"4\":['g','h','i'],\"5\":['j','k','l'],\"6\":['m','n','0'],\n",
    "         \"7\":['p','q','r','s'],\"8\":['t','u','v'],\"9\":['w','x','y','z']}\n",
    "    s=x+' '\n",
    "    count=1\n",
    "    letters=''\n",
    "    length=len(s)\n",
    "    for i in range(length-1):\n",
    "        if s[i]=='0' or s[i]=='1':\n",
    "            return \"Invalid Sequence\"\n",
    "        f=s[i]\n",
    "        e=len(l[f])\n",
    "        \n",
    "        if s[i]==s[i+1]:\n",
    "            count+=1\n",
    "        else:\n",
    "                repeated=count//e\n",
    "                letters=letters+l[f][e-1]*repeated\n",
    "                count=count%e\n",
    "                if count>0:\n",
    "                    letters=letters+l[f][count-1]\n",
    "                count=1\n",
    "\n",
    "    return letters"
   ]
  },
  {
   "cell_type": "code",
   "execution_count": 12,
   "metadata": {},
   "outputs": [
    {
     "name": "stdout",
     "output_type": "stream",
     "text": [
      "zeke\n"
     ]
    }
   ],
   "source": [
    "number='9999335533'\n",
    "print(numbers_to_chars(number))"
   ]
  },
  {
   "cell_type": "code",
   "execution_count": null,
   "metadata": {},
   "outputs": [],
   "source": [
    "\"\"\"\"2.\n",
    "Given a dict of tickets(\"to\":\"from\")\n",
    "\n",
    "{\"Chennai\":\"Banglore\",\"Bombay\":\"Delhi\",\"Goa\":\"Chennai\",\"Delhi\":\"Goa\"} find out the sequence of travel.\n",
    "\n",
    "Expected Output : Bombay->Delhi, Delhi->Goa, Goa->Chennai, Chennai->Banglore\n",
    "\n",
    "Function Name : travel_sequence Input : dict Output : dict\"\"\""
   ]
  },
  {
   "cell_type": "code",
   "execution_count": 13,
   "metadata": {},
   "outputs": [],
   "source": [
    "def travel_sequence(a):\n",
    "    x=[]\n",
    "    y=[]\n",
    "    for keys,values in a.items():\n",
    "        x.append(keys)\n",
    "        y.append(values)\n",
    "    seq=[]\n",
    "    final=[]\n",
    "    start=list(set(x) - set(y))\n",
    "    for i in start:\n",
    "        while a.get(i):\n",
    "            str1= i+'->' +a[i]\n",
    "            seq.append(str1)\n",
    "            i=a[i]\n",
    "        final.append(seq)\n",
    "\n",
    "    return final\n"
   ]
  },
  {
   "cell_type": "code",
   "execution_count": 14,
   "metadata": {},
   "outputs": [
    {
     "name": "stdout",
     "output_type": "stream",
     "text": [
      "[['Bombay->Delhi', 'Delhi->Goa', 'Goa->Chennai', 'Chennai->Banglore']]\n"
     ]
    }
   ],
   "source": [
    "a={\"Chennai\":\"Banglore\",\"Bombay\":\"Delhi\",\"Goa\":\"Chennai\",\"Delhi\":\"Goa\"}\n",
    "print(travel_sequence(a))\n"
   ]
  },
  {
   "cell_type": "code",
   "execution_count": null,
   "metadata": {},
   "outputs": [],
   "source": [
    "\n",
    "\"\"\"3.\n",
    "Given a dictionary that associates the names of states with a list of the names of\n",
    "cities that appear in it,write a program that creates a new dictionary that associates the \n",
    "name of a city with the list of states that it appears in.\n",
    "\n",
    "As an example, if the first dictionary is\n",
    "\n",
    "Input : states = {'New Hampshire': ['Concord', 'Hanover'],\n",
    "\n",
    "'Massachusetts': ['Boston', 'Concord', 'Springfield'],\n",
    "\n",
    "'Illinois': ['Chicago', 'Springfield', 'Peoria'] }\n",
    "\n",
    "Output:\n",
    "\n",
    "cities = {'Hanover': ['New Hampshire'],\n",
    "\n",
    "'Chicago': ['Illinois'],'Boston': ['Massachusetts'],\n",
    "\n",
    "'Peoria': ['Illinois'],'Concord': ['New Hampshire','Massachusetts'],\n",
    "\n",
    "'Springfield': ['Massachusetts', 'Illinois'] }\n",
    "\n",
    "Function Name : city_with_states Input : dict Output : dict\"\"\"\n"
   ]
  },
  {
   "cell_type": "code",
   "execution_count": 17,
   "metadata": {},
   "outputs": [],
   "source": [
    "def  city_with_states(states):\n",
    "    if states:\n",
    "        s={}\n",
    "        for key,v in states.items():\n",
    "            for values in v:\n",
    "                if values in s:\n",
    "                    s[values].append(key)\n",
    "\n",
    "                else:\n",
    "                    s[values]=[key]\n",
    "        return s\n",
    "    return False"
   ]
  },
  {
   "cell_type": "code",
   "execution_count": 18,
   "metadata": {},
   "outputs": [
    {
     "name": "stdout",
     "output_type": "stream",
     "text": [
      "{'Concord': ['New Hampshire', 'Massachusetts'], 'Hanover': ['New Hampshire'], 'Boston': ['Massachusetts'], 'Springfield': ['Massachusetts', 'Illinois'], 'Chicago': ['Illinois'], 'Peoria': ['Illinois']}\n"
     ]
    }
   ],
   "source": [
    "states = {'New Hampshire': ['Concord', 'Hanover'],\n",
    "\n",
    "'Massachusetts': ['Boston', 'Concord', 'Springfield'],\n",
    "\n",
    "'Illinois': ['Chicago', 'Springfield', 'Peoria'] }\n",
    "\n",
    "print(city_with_states(states))"
   ]
  },
  {
   "cell_type": "code",
   "execution_count": 19,
   "metadata": {},
   "outputs": [
    {
     "data": {
      "text/plain": [
       "'4.\\nHow do you check if a given String contains valid parentheses?\\nGiven a string containing just the characters \\'(\\', \\')\\', \\'{\\', \\'}\\', \\'[\\' and \\']\\', \\nwrite a program in python to check if the input string is valid. The brackets must close in the correct order,\\n\"()\" and \"()[]{}\" are all valid but \"(]\" and \"([)]\" are not.\\n\\nFunction Name : check_parentheses Input : str Output : True/False'"
      ]
     },
     "execution_count": 19,
     "metadata": {},
     "output_type": "execute_result"
    }
   ],
   "source": [
    "\"\"\"4.\n",
    "How do you check if a given String contains valid parentheses?\n",
    "Given a string containing just the characters '(', ')', '{', '}', '[' and ']', \n",
    "write a program in python to check if the input string is valid. The brackets must close in the correct order,\n",
    "\"()\" and \"()[]{}\" are all valid but \"(]\" and \"([)]\" are not.\n",
    "\n",
    "Function Name : check_parentheses Input : str Output : True/False\"\"\"\n"
   ]
  },
  {
   "cell_type": "code",
   "execution_count": 20,
   "metadata": {},
   "outputs": [],
   "source": [
    "def check_parentheses(s):\n",
    "    bracket_map = {\"(\": \")\", \"[\": \"]\",  \"{\": \"}\"}\n",
    "    open_par = set([\"(\", \"[\", \"{\"])\n",
    "    stack = []\n",
    "    for i in s:\n",
    "        if i in open_par:\n",
    "            stack.append(i)\n",
    "        elif stack and i == bracket_map[stack[-1]]:\n",
    "                stack.pop()\n",
    "        else:\n",
    "            return False\n",
    "    return stack == []\n"
   ]
  },
  {
   "cell_type": "code",
   "execution_count": 22,
   "metadata": {},
   "outputs": [
    {
     "name": "stdout",
     "output_type": "stream",
     "text": [
      "True\n"
     ]
    }
   ],
   "source": [
    "s='[[{}]]'\n",
    "print(check_parentheses(s))\n"
   ]
  },
  {
   "cell_type": "code",
   "execution_count": 23,
   "metadata": {},
   "outputs": [
    {
     "data": {
      "text/plain": [
       "'\\n5.\\nWrite a program to convert Integer to Roman String. \\nFor example, if a given integer is 5 then your program should print \"V\".\\n\\nFunction Name : int_roman Input : int Output : str'"
      ]
     },
     "execution_count": 23,
     "metadata": {},
     "output_type": "execute_result"
    }
   ],
   "source": [
    "\"\"\"\n",
    "5.\n",
    "Write a program to convert Integer to Roman String. \n",
    "For example, if a given integer is 5 then your program should print \"V\".\n",
    "\n",
    "Function Name : int_roman Input : int Output : str\"\"\"\n"
   ]
  },
  {
   "cell_type": "code",
   "execution_count": 29,
   "metadata": {},
   "outputs": [],
   "source": [
    "def int_roman(number): \n",
    "    if number>=4000:\n",
    "        return False\n",
    "    d=''\n",
    "    num = [1, 4, 5, 9, 10, 40, 50, 90, 100, 400, 500, 900, 1000]\n",
    "    sym = [\"I\", \"IV\", \"V\", \"IX\", \"X\", \"XL\", \n",
    "\t\t\"L\", \"XC\", \"C\", \"CD\", \"D\", \"CM\", \"M\"]\n",
    "    i = 12\n",
    "    while number:\n",
    "        div = number // num[i]\n",
    "        number %= num[i]\n",
    "        while div: \n",
    "            d+=sym[i]\n",
    "            div -= 1\n",
    "        i -= 1\n",
    "    return d\n",
    "\n"
   ]
  },
  {
   "cell_type": "code",
   "execution_count": 30,
   "metadata": {},
   "outputs": [
    {
     "name": "stdout",
     "output_type": "stream",
     "text": [
      "MMMCMXCIX\n"
     ]
    }
   ],
   "source": [
    "number=3999\n",
    "print(int_roman(number))"
   ]
  },
  {
   "cell_type": "code",
   "execution_count": null,
   "metadata": {},
   "outputs": [],
   "source": [
    "\"\"\"\n",
    "6.\n",
    "Write a program utility that counts the number of lines of actual python code in a.\n",
    "For the purpose of this exercise, a line is counted if it contains something other than whitespace or text in a comment.\n",
    "\n",
    "remember that comment start sequences that appear inside python strings should be ignored.\n",
    "\n",
    "Function Name : count_code_lines Input : str Output : int\"\"\"\n"
   ]
  },
  {
   "cell_type": "code",
   "execution_count": 35,
   "metadata": {},
   "outputs": [],
   "source": [
    "import re\n",
    "def count_code_lines(input_code):\n",
    "    d='^#.'\n",
    "    lines_len=0\n",
    "    length = input_code.split('\\n')\n",
    "    for lines in length:\n",
    "        #print(lines,len(lines),i)\n",
    "        if re.search(d,lines) or len(lines)==0:\n",
    "            continue\n",
    "        lines_len+=1\n",
    "    return lines_len"
   ]
  },
  {
   "cell_type": "code",
   "execution_count": 36,
   "metadata": {},
   "outputs": [
    {
     "name": "stdout",
     "output_type": "stream",
     "text": [
      "10\n"
     ]
    }
   ],
   "source": [
    "\n",
    "input_code = \"\"\"\n",
    "#Linear search implementation\n",
    "#Takes list and a key as input and returns True or False as answer\n",
    "def linear_saerch(l,key):\n",
    "    for value in l:\n",
    "        if key == value:\n",
    "            return True #Return True is key exist\n",
    "    else:\n",
    "        return False #Return False if key does not exist\n",
    "\n",
    "l = [100,200,300,400,500,600]\n",
    "key = 500\n",
    "result = linear_search(l,key)\n",
    "print(result)\n",
    "\"\"\"\n",
    "\n",
    "print(count_code_lines(input_code))"
   ]
  },
  {
   "cell_type": "code",
   "execution_count": null,
   "metadata": {},
   "outputs": [],
   "source": []
  },
  {
   "cell_type": "code",
   "execution_count": null,
   "metadata": {},
   "outputs": [],
   "source": [
    "\"\"\"7.\n",
    "Write a program to check the strength of a supplied password\n",
    "\n",
    "The length of the password must be at least 8 characters in length\n",
    "The password must contain at least 1 capital letter\n",
    "The password must contain at least 1 digit \n",
    "The password must contain at least 1 special character and allowed special characters are (!,@,#,$,&)\n",
    "\n",
    "We need to provide feedback to the user about the strength of their password\n",
    "\n",
    "Provide the user with a list of reasons why their password is 'weak'\n",
    "Function Name : check_password_strength Input : str Output : tuple (str,list) \n",
    "eg (\"Weak\",[\"The password must contain at least 1 capital letter\"])\n"
   ]
  },
  {
   "cell_type": "code",
   "execution_count": 37,
   "metadata": {},
   "outputs": [],
   "source": [
    "def check_password_strength(pwd):\n",
    "    u=0\n",
    "    d=0\n",
    "    l=0\n",
    "    s=0\n",
    "    x=['!','@','#','$','&']\n",
    "    if len(pwd)>=8:\n",
    "        for i in pwd:\n",
    "            if i.isupper():\n",
    "                u+=1\n",
    "            elif i.islower():\n",
    "                l+=1\n",
    "            elif i.isdigit():\n",
    "                d+=1\n",
    "            elif i in x:\n",
    "                s+=1\n",
    "            else:\n",
    "                return(\"Invalid character\")\n",
    "                break\n",
    "        if u and d and l and s:\n",
    "            return(\"strong\")\n",
    "        elif not u:\n",
    "            return(\"Weak\",\"[The password must contain at least 1 capital letter]\")\n",
    "        elif not l:\n",
    "            return(\"Weak\",\"[The password must contain at least 1 small letter]\")\n",
    "        elif not d:\n",
    "            return(\"Weak\",\"[The password must contain at least 1 digit]\")\n",
    "        elif not d:\n",
    "            return(\"Weak\",\"[The password must contain at least 1 special chacter]\")\n",
    "            \n",
    "    else:\n",
    "        return(\"length is too small\")"
   ]
  },
  {
   "cell_type": "code",
   "execution_count": 38,
   "metadata": {},
   "outputs": [
    {
     "name": "stdout",
     "output_type": "stream",
     "text": [
      "('Weak', '[The password must contain at least 1 digit]')\n"
     ]
    }
   ],
   "source": [
    "print(check_password_strength('abcaasAA'))"
   ]
  },
  {
   "cell_type": "code",
   "execution_count": null,
   "metadata": {},
   "outputs": [],
   "source": [
    "\"\"\"8.Check if given sentence is syntactically correct or not\n",
    "\n",
    "A simple sentence if syntactically correct if it fulfills given rules. The following are given rules.\n",
    "\n",
    "    Sentence must start with a Uppercase character (e.g. Noun/ I/ We/ He etc.)\n",
    "    There must be spaces between words.\n",
    "    Then the sentence must end with a full stop(.).\n",
    "    Two continuous spaces are not allowed.\n",
    "    Two continuous uppercase characters are not allowed.\n",
    "    However the sentence can end after an uppercase character.\n",
    "\n",
    "Function Name : check_sentence Input : str Output : tuple (True/False,list) \n",
    "eg (False,[\"There must be spaces between words.\"])\"\"\"\n"
   ]
  },
  {
   "cell_type": "code",
   "execution_count": 39,
   "metadata": {},
   "outputs": [],
   "source": [
    "def check_sentence(string): \n",
    "\n",
    "    l = len(string)\n",
    "    if string.count(\" \")>0:\n",
    "        if string[0] < 'A' or string[0] > 'Z': \n",
    "             return (False,[\"word must start with capital letters.\"])\n",
    "        if string[l-1] != '.':\n",
    "            return (False,[\"word must end with semicolon.\"])\n",
    "    \n",
    "        prev_state = 0\n",
    "        curr_state = 0\n",
    "        index = 1\n",
    "        #print(len(string))\n",
    "      \n",
    "        while (string[index]):\n",
    "            #print(\"hey\",curr_state)\n",
    "    \n",
    "            if string[index] >= 'A' and string[index] <= 'Z': \n",
    "                curr_state = 0\n",
    "      \n",
    "            elif string[index] == ' ':\n",
    "                #print(\"space\")\n",
    "                curr_state = 1\n",
    "      \n",
    "            elif string[index] >= 'a' and string[index] <= 'z': \n",
    "                curr_state = 2\n",
    "    \n",
    "            elif string[index] == '.': \n",
    "                #print(\"colon\",index,prev_state)\n",
    "                curr_state = 3\n",
    "                \n",
    "      \n",
    "            if prev_state == curr_state and curr_state != 2:\n",
    "                if curr_state==0:\n",
    "                    return (False,[\"Two continuous uppercase characters are not allowed\"])\n",
    "                elif curr_state==1:\n",
    "                     return (False,[\"Two continuous spaces are not allowed\"])\n",
    "                else:\n",
    "                    return (False,[\"semicolon are not allowed in middle\"])\n",
    "                    \n",
    "                     \n",
    "            if prev_state == 2 and curr_state == 0: \n",
    "                return (False,[\" Uppercase characters are followed after lowercase\"])\n",
    "            \n",
    "            if curr_state == 3 and prev_state != 1 and index==l-1:\n",
    "                return True\n",
    "            \n",
    "                \n",
    "      \n",
    "            index += 1\n",
    "            #print(index)\n",
    "      \n",
    "            prev_state = curr_state \n",
    "    \n",
    "      \n",
    "        return False\n",
    "    else:\n",
    "        return (False,[\"There must be spaces between words.\"])\n",
    "        \n",
    "\n"
   ]
  },
  {
   "cell_type": "code",
   "execution_count": 40,
   "metadata": {},
   "outputs": [
    {
     "name": "stdout",
     "output_type": "stream",
     "text": [
      "(False, ['semicolon are not allowed in middle'])\n"
     ]
    }
   ],
   "source": [
    "string =\"A b..\"\n",
    "print(check_sentence(string))"
   ]
  },
  {
   "cell_type": "code",
   "execution_count": null,
   "metadata": {},
   "outputs": [],
   "source": [
    "\"\"\"9.\n",
    "Given an array arr[] of integers and an integer K, the task is to find the greatest contiguous sub-array of size K.\n",
    "\n",
    "Sub-array X is said to be greater than sub-array Y if the first non-matching\n",
    "element in both the sub-arrays has a greater value in X than in Y.\n",
    "\n",
    "For example : Input: arr[] = {1, 4, 3, 2, 5}, K = 4 Output: 4 3 2 5 \n",
    "Two subarrays are {1, 4, 3, 2} and {4, 3, 2, 5}. \n",
    "First non-matching element from array1 and array 2 : 1 and 4 as 4 is greater Hence, the greater one is {4, 3, 2, 5}\n",
    "\n",
    "Function Name : greatest_sub_array() Input : list Output : list\n"
   ]
  },
  {
   "cell_type": "code",
   "execution_count": 42,
   "metadata": {},
   "outputs": [],
   "source": [
    "def greatest_sub_array(a, k): \n",
    "    n=len(a)\n",
    "  \n",
    "    l1=[] \n",
    "  \n",
    "    for i in range(n-k+1): \n",
    "        t=[] \n",
    "  \n",
    "        for j in range(i,i+k): \n",
    "            t.append(a[j]) \n",
    "  \n",
    "        l1.append(t) \n",
    "  \n",
    "\n",
    "    l1=sorted(l1) \n",
    "  \n",
    "    return l1[len(l1) - 1] "
   ]
  },
  {
   "cell_type": "code",
   "execution_count": 46,
   "metadata": {},
   "outputs": [
    {
     "data": {
      "text/plain": [
       "[5, 6, 7, 8]"
      ]
     },
     "execution_count": 46,
     "metadata": {},
     "output_type": "execute_result"
    }
   ],
   "source": [
    "arr = [1, 4, 3, 2, 5,6,7,8]\n",
    "K = 4\n",
    "greatest_sub_array(arr, K)"
   ]
  },
  {
   "cell_type": "code",
   "execution_count": null,
   "metadata": {},
   "outputs": [],
   "source": [
    "\"\"\"10.\n",
    "Given a list of N integers. \n",
    "The task is to eliminate the minimum number of elements such that in the resulting list the \n",
    "sum of any two adjacent values is even.\n",
    "\n",
    "Numbers = [1, 3, 5, 4, 2] Output = [1, 3, 5] Total elements removed 2 Elements to be removed [4,2]\n",
    "\n",
    "Function Name : adj_sum_even() Input : list Output : tuple(int,list)\"\"\"\n"
   ]
  },
  {
   "cell_type": "code",
   "execution_count": 51,
   "metadata": {},
   "outputs": [],
   "source": [
    "\n",
    "def adj_sum_even(s):\n",
    "    sumo=0\n",
    "    sume=0\n",
    "    e=[]\n",
    "    o=[]\n",
    "    for i in s:\n",
    "        if i%2==0:\n",
    "            sume+=i\n",
    "            e.append(i)\n",
    "        else:\n",
    "            sumo+=i\n",
    "            o.append(i)\n",
    "    \n",
    "    if sume<=sumo:\n",
    "        return o\n",
    "    else: \n",
    "        return e\n",
    "    "
   ]
  },
  {
   "cell_type": "code",
   "execution_count": 52,
   "metadata": {},
   "outputs": [
    {
     "name": "stdout",
     "output_type": "stream",
     "text": [
      "[1, 3, 5]\n"
     ]
    }
   ],
   "source": [
    "s = [1, 3, 5, 4, 2]\n",
    "print(adj_sum_even(s))"
   ]
  },
  {
   "cell_type": "code",
   "execution_count": null,
   "metadata": {},
   "outputs": [],
   "source": []
  }
 ],
 "metadata": {
  "kernelspec": {
   "display_name": "Python 3",
   "language": "python",
   "name": "python3"
  },
  "language_info": {
   "codemirror_mode": {
    "name": "ipython",
    "version": 3
   },
   "file_extension": ".py",
   "mimetype": "text/x-python",
   "name": "python",
   "nbconvert_exporter": "python",
   "pygments_lexer": "ipython3",
   "version": "3.6.8"
  }
 },
 "nbformat": 4,
 "nbformat_minor": 2
}
